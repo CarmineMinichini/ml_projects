{
 "cells": [
  {
   "cell_type": "code",
   "execution_count": 1,
   "metadata": {},
   "outputs": [],
   "source": [
    "#utility\n",
    "import pandas as pd\n",
    "import matplotlib.pyplot as plt\n",
    "import numpy as np\n",
    "import seaborn as sns\n",
    "sns.set(style='darkgrid')\n",
    "import warnings\n",
    "warnings.filterwarnings('ignore')\n",
    "\n",
    "from sklearn.preprocessing import StandardScaler"
   ]
  },
  {
   "cell_type": "code",
   "execution_count": 224,
   "metadata": {
    "scrolled": true
   },
   "outputs": [],
   "source": [
    "# ML libraries\n",
    "from sklearn.linear_model import LogisticRegression\n",
    "from sklearn.tree import DecisionTreeClassifier\n",
    "from sklearn.ensemble import RandomForestClassifier,GradientBoostingClassifier\n",
    "from sklearn.discriminant_analysis import LinearDiscriminantAnalysis\n",
    "from xgboost import XGBClassifier\n",
    "from sklearn.svm import SVC\n",
    "\n",
    "# metrics\n",
    "from imblearn.over_sampling import SMOTE\n",
    "from sklearn.model_selection import train_test_split,KFold,cross_val_score,learning_curve\n",
    "from sklearn.metrics import classification_report,confusion_matrix,roc_curve,auc\n",
    "from sklearn.metrics import make_scorer, accuracy_score,balanced_accuracy_score,log_loss,f1_score,recall_score\n",
    "from sklearn.model_selection import GridSearchCV\n",
    "from sklearn.neural_network import MLPClassifier\n",
    "\n",
    "# feature importances\n",
    "#from pdpbox import pdp, get_dataset, info_plots\n",
    "#import shap\n",
    "#import eli5\n",
    "#from eli5.sklearn import PermutationImportance"
   ]
  },
  {
   "cell_type": "markdown",
   "metadata": {},
   "source": [
    "# Dataset"
   ]
  },
  {
   "cell_type": "code",
   "execution_count": 121,
   "metadata": {
    "scrolled": true
   },
   "outputs": [
    {
     "data": {
      "text/html": [
       "<div>\n",
       "<style scoped>\n",
       "    .dataframe tbody tr th:only-of-type {\n",
       "        vertical-align: middle;\n",
       "    }\n",
       "\n",
       "    .dataframe tbody tr th {\n",
       "        vertical-align: top;\n",
       "    }\n",
       "\n",
       "    .dataframe thead th {\n",
       "        text-align: right;\n",
       "    }\n",
       "</style>\n",
       "<table border=\"1\" class=\"dataframe\">\n",
       "  <thead>\n",
       "    <tr style=\"text-align: right;\">\n",
       "      <th></th>\n",
       "      <th>age</th>\n",
       "      <th>workclass</th>\n",
       "      <th>fnlwgt</th>\n",
       "      <th>education</th>\n",
       "      <th>education.num</th>\n",
       "      <th>marital.status</th>\n",
       "      <th>occupation</th>\n",
       "      <th>relationship</th>\n",
       "      <th>race</th>\n",
       "      <th>sex</th>\n",
       "      <th>capital.gain</th>\n",
       "      <th>capital.loss</th>\n",
       "      <th>hours.per.week</th>\n",
       "      <th>native.country</th>\n",
       "      <th>income</th>\n",
       "    </tr>\n",
       "  </thead>\n",
       "  <tbody>\n",
       "    <tr>\n",
       "      <th>0</th>\n",
       "      <td>90</td>\n",
       "      <td>?</td>\n",
       "      <td>77053</td>\n",
       "      <td>HS-grad</td>\n",
       "      <td>9</td>\n",
       "      <td>Widowed</td>\n",
       "      <td>?</td>\n",
       "      <td>Not-in-family</td>\n",
       "      <td>White</td>\n",
       "      <td>Female</td>\n",
       "      <td>0</td>\n",
       "      <td>4356</td>\n",
       "      <td>40</td>\n",
       "      <td>United-States</td>\n",
       "      <td>&lt;=50K</td>\n",
       "    </tr>\n",
       "    <tr>\n",
       "      <th>1</th>\n",
       "      <td>82</td>\n",
       "      <td>Private</td>\n",
       "      <td>132870</td>\n",
       "      <td>HS-grad</td>\n",
       "      <td>9</td>\n",
       "      <td>Widowed</td>\n",
       "      <td>Exec-managerial</td>\n",
       "      <td>Not-in-family</td>\n",
       "      <td>White</td>\n",
       "      <td>Female</td>\n",
       "      <td>0</td>\n",
       "      <td>4356</td>\n",
       "      <td>18</td>\n",
       "      <td>United-States</td>\n",
       "      <td>&lt;=50K</td>\n",
       "    </tr>\n",
       "    <tr>\n",
       "      <th>2</th>\n",
       "      <td>66</td>\n",
       "      <td>?</td>\n",
       "      <td>186061</td>\n",
       "      <td>Some-college</td>\n",
       "      <td>10</td>\n",
       "      <td>Widowed</td>\n",
       "      <td>?</td>\n",
       "      <td>Unmarried</td>\n",
       "      <td>Black</td>\n",
       "      <td>Female</td>\n",
       "      <td>0</td>\n",
       "      <td>4356</td>\n",
       "      <td>40</td>\n",
       "      <td>United-States</td>\n",
       "      <td>&lt;=50K</td>\n",
       "    </tr>\n",
       "  </tbody>\n",
       "</table>\n",
       "</div>"
      ],
      "text/plain": [
       "   age workclass  fnlwgt     education  education.num marital.status  \\\n",
       "0   90         ?   77053       HS-grad              9        Widowed   \n",
       "1   82   Private  132870       HS-grad              9        Widowed   \n",
       "2   66         ?  186061  Some-college             10        Widowed   \n",
       "\n",
       "        occupation   relationship   race     sex  capital.gain  capital.loss  \\\n",
       "0                ?  Not-in-family  White  Female             0          4356   \n",
       "1  Exec-managerial  Not-in-family  White  Female             0          4356   \n",
       "2                ?      Unmarried  Black  Female             0          4356   \n",
       "\n",
       "   hours.per.week native.country income  \n",
       "0              40  United-States  <=50K  \n",
       "1              18  United-States  <=50K  \n",
       "2              40  United-States  <=50K  "
      ]
     },
     "execution_count": 121,
     "metadata": {},
     "output_type": "execute_result"
    }
   ],
   "source": [
    "df = pd.read_csv('adult.csv')\n",
    "df.head(3)"
   ]
  },
  {
   "cell_type": "markdown",
   "metadata": {},
   "source": [
    "### replace ? values"
   ]
  },
  {
   "cell_type": "code",
   "execution_count": 122,
   "metadata": {},
   "outputs": [],
   "source": [
    "# replace missing values with labels\n",
    "df.workclass.replace({\"?\":'Unkown'},inplace=True)\n",
    "df.occupation.replace({\"?\":'Unkown'},inplace=True)\n",
    "df['native.country'].replace({\"?\":'Unkown'},inplace=True)"
   ]
  },
  {
   "cell_type": "code",
   "execution_count": 123,
   "metadata": {},
   "outputs": [
    {
     "data": {
      "image/png": "[encoded data removed]",
      "text/plain": [
       "<Figure size 432x288 with 1 Axes>"
      ]
     },
     "metadata": {},
     "output_type": "display_data"
    }
   ],
   "source": [
    "# see if the dataset is imbalanced\n",
    "sns.countplot(df.income)\n",
    "plt.title('Target countplot',size=13)\n",
    "plt.show()"
   ]
  },
  {
   "cell_type": "markdown",
   "metadata": {},
   "source": [
    "# Features Engineering"
   ]
  },
  {
   "cell_type": "code",
   "execution_count": 124,
   "metadata": {
    "scrolled": true
   },
   "outputs": [
    {
     "data": {
      "text/html": [
       "<div>\n",
       "<style scoped>\n",
       "    .dataframe tbody tr th:only-of-type {\n",
       "        vertical-align: middle;\n",
       "    }\n",
       "\n",
       "    .dataframe tbody tr th {\n",
       "        vertical-align: top;\n",
       "    }\n",
       "\n",
       "    .dataframe thead th {\n",
       "        text-align: right;\n",
       "    }\n",
       "</style>\n",
       "<table border=\"1\" class=\"dataframe\">\n",
       "  <thead>\n",
       "    <tr style=\"text-align: right;\">\n",
       "      <th></th>\n",
       "      <th>age</th>\n",
       "      <th>fnlwgt</th>\n",
       "      <th>education.num</th>\n",
       "      <th>capital.gain</th>\n",
       "      <th>capital.loss</th>\n",
       "      <th>hours.per.week</th>\n",
       "      <th>workclass_Federal-gov</th>\n",
       "      <th>workclass_Local-gov</th>\n",
       "      <th>workclass_Never-worked</th>\n",
       "      <th>workclass_Private</th>\n",
       "      <th>...</th>\n",
       "      <th>native.country_Scotland</th>\n",
       "      <th>native.country_South</th>\n",
       "      <th>native.country_Taiwan</th>\n",
       "      <th>native.country_Thailand</th>\n",
       "      <th>native.country_Trinadad&amp;Tobago</th>\n",
       "      <th>native.country_United-States</th>\n",
       "      <th>native.country_Unkown</th>\n",
       "      <th>native.country_Vietnam</th>\n",
       "      <th>native.country_Yugoslavia</th>\n",
       "      <th>target</th>\n",
       "    </tr>\n",
       "  </thead>\n",
       "  <tbody>\n",
       "    <tr>\n",
       "      <th>0</th>\n",
       "      <td>90</td>\n",
       "      <td>77053</td>\n",
       "      <td>9</td>\n",
       "      <td>0</td>\n",
       "      <td>4356</td>\n",
       "      <td>40</td>\n",
       "      <td>0</td>\n",
       "      <td>0</td>\n",
       "      <td>0</td>\n",
       "      <td>0</td>\n",
       "      <td>...</td>\n",
       "      <td>0</td>\n",
       "      <td>0</td>\n",
       "      <td>0</td>\n",
       "      <td>0</td>\n",
       "      <td>0</td>\n",
       "      <td>1</td>\n",
       "      <td>0</td>\n",
       "      <td>0</td>\n",
       "      <td>0</td>\n",
       "      <td>0</td>\n",
       "    </tr>\n",
       "    <tr>\n",
       "      <th>1</th>\n",
       "      <td>82</td>\n",
       "      <td>132870</td>\n",
       "      <td>9</td>\n",
       "      <td>0</td>\n",
       "      <td>4356</td>\n",
       "      <td>18</td>\n",
       "      <td>0</td>\n",
       "      <td>0</td>\n",
       "      <td>0</td>\n",
       "      <td>1</td>\n",
       "      <td>...</td>\n",
       "      <td>0</td>\n",
       "      <td>0</td>\n",
       "      <td>0</td>\n",
       "      <td>0</td>\n",
       "      <td>0</td>\n",
       "      <td>1</td>\n",
       "      <td>0</td>\n",
       "      <td>0</td>\n",
       "      <td>0</td>\n",
       "      <td>0</td>\n",
       "    </tr>\n",
       "    <tr>\n",
       "      <th>2</th>\n",
       "      <td>66</td>\n",
       "      <td>186061</td>\n",
       "      <td>10</td>\n",
       "      <td>0</td>\n",
       "      <td>4356</td>\n",
       "      <td>40</td>\n",
       "      <td>0</td>\n",
       "      <td>0</td>\n",
       "      <td>0</td>\n",
       "      <td>0</td>\n",
       "      <td>...</td>\n",
       "      <td>0</td>\n",
       "      <td>0</td>\n",
       "      <td>0</td>\n",
       "      <td>0</td>\n",
       "      <td>0</td>\n",
       "      <td>1</td>\n",
       "      <td>0</td>\n",
       "      <td>0</td>\n",
       "      <td>0</td>\n",
       "      <td>0</td>\n",
       "    </tr>\n",
       "    <tr>\n",
       "      <th>3</th>\n",
       "      <td>54</td>\n",
       "      <td>140359</td>\n",
       "      <td>4</td>\n",
       "      <td>0</td>\n",
       "      <td>3900</td>\n",
       "      <td>40</td>\n",
       "      <td>0</td>\n",
       "      <td>0</td>\n",
       "      <td>0</td>\n",
       "      <td>1</td>\n",
       "      <td>...</td>\n",
       "      <td>0</td>\n",
       "      <td>0</td>\n",
       "      <td>0</td>\n",
       "      <td>0</td>\n",
       "      <td>0</td>\n",
       "      <td>1</td>\n",
       "      <td>0</td>\n",
       "      <td>0</td>\n",
       "      <td>0</td>\n",
       "      <td>0</td>\n",
       "    </tr>\n",
       "    <tr>\n",
       "      <th>4</th>\n",
       "      <td>41</td>\n",
       "      <td>264663</td>\n",
       "      <td>10</td>\n",
       "      <td>0</td>\n",
       "      <td>3900</td>\n",
       "      <td>40</td>\n",
       "      <td>0</td>\n",
       "      <td>0</td>\n",
       "      <td>0</td>\n",
       "      <td>1</td>\n",
       "      <td>...</td>\n",
       "      <td>0</td>\n",
       "      <td>0</td>\n",
       "      <td>0</td>\n",
       "      <td>0</td>\n",
       "      <td>0</td>\n",
       "      <td>1</td>\n",
       "      <td>0</td>\n",
       "      <td>0</td>\n",
       "      <td>0</td>\n",
       "      <td>0</td>\n",
       "    </tr>\n",
       "  </tbody>\n",
       "</table>\n",
       "<p>5 rows × 109 columns</p>\n",
       "</div>"
      ],
      "text/plain": [
       "   age  fnlwgt  education.num  capital.gain  capital.loss  hours.per.week  \\\n",
       "0   90   77053              9             0          4356              40   \n",
       "1   82  132870              9             0          4356              18   \n",
       "2   66  186061             10             0          4356              40   \n",
       "3   54  140359              4             0          3900              40   \n",
       "4   41  264663             10             0          3900              40   \n",
       "\n",
       "   workclass_Federal-gov  workclass_Local-gov  workclass_Never-worked  \\\n",
       "0                      0                    0                       0   \n",
       "1                      0                    0                       0   \n",
       "2                      0                    0                       0   \n",
       "3                      0                    0                       0   \n",
       "4                      0                    0                       0   \n",
       "\n",
       "   workclass_Private  ...  native.country_Scotland  native.country_South  \\\n",
       "0                  0  ...                        0                     0   \n",
       "1                  1  ...                        0                     0   \n",
       "2                  0  ...                        0                     0   \n",
       "3                  1  ...                        0                     0   \n",
       "4                  1  ...                        0                     0   \n",
       "\n",
       "   native.country_Taiwan  native.country_Thailand  \\\n",
       "0                      0                        0   \n",
       "1                      0                        0   \n",
       "2                      0                        0   \n",
       "3                      0                        0   \n",
       "4                      0                        0   \n",
       "\n",
       "   native.country_Trinadad&Tobago  native.country_United-States  \\\n",
       "0                               0                             1   \n",
       "1                               0                             1   \n",
       "2                               0                             1   \n",
       "3                               0                             1   \n",
       "4                               0                             1   \n",
       "\n",
       "   native.country_Unkown  native.country_Vietnam  native.country_Yugoslavia  \\\n",
       "0                      0                       0                          0   \n",
       "1                      0                       0                          0   \n",
       "2                      0                       0                          0   \n",
       "3                      0                       0                          0   \n",
       "4                      0                       0                          0   \n",
       "\n",
       "   target  \n",
       "0       0  \n",
       "1       0  \n",
       "2       0  \n",
       "3       0  \n",
       "4       0  \n",
       "\n",
       "[5 rows x 109 columns]"
      ]
     },
     "execution_count": 124,
     "metadata": {},
     "output_type": "execute_result"
    }
   ],
   "source": [
    "temp=df.drop('income',1)\n",
    "# one hot encoding \n",
    "data=pd.get_dummies(temp)\n",
    "data['target']=df.income\n",
    "# map target values\n",
    "data['target']= data['target'].map({\"<=50K\":0,\">50K\":1})\n",
    "data.head()"
   ]
  },
  {
   "cell_type": "markdown",
   "metadata": {},
   "source": [
    "# Machine learning"
   ]
  },
  {
   "cell_type": "code",
   "execution_count": 125,
   "metadata": {},
   "outputs": [],
   "source": [
    "# train test split\n",
    "ml_df = data.copy()\n",
    "X= ml_df.drop('target',1)\n",
    "y= ml_df['target']\n",
    "X_train, X_test, y_train, y_test = train_test_split(X, y, test_size=0.33, random_state=42)"
   ]
  },
  {
   "cell_type": "markdown",
   "metadata": {},
   "source": [
    "### Since we're dealing with medium imbalanced dataset  we must try different approaches:\n",
    "\n",
    "1. Select a better evaluation metrics (precision,recall,roc_auc,f1 score)\n",
    "2. Use an oversampling technique\n",
    "\n",
    "For now let'see how models work on imbalanced dataset, evaluating their performance with recall score, later we will see how SMOTE technique perform and how improve model performance"
   ]
  },
  {
   "cell_type": "markdown",
   "metadata": {},
   "source": [
    "# Compare accuracy for different models"
   ]
  },
  {
   "cell_type": "code",
   "execution_count": 139,
   "metadata": {
    "scrolled": false
   },
   "outputs": [
    {
     "name": "stdout",
     "output_type": "stream",
     "text": [
      "Logistic Regression\n",
      "Recall : 0.502293 (Standard Deviation 0.176452)\n",
      "____________________________________________________________\n",
      "Decision Tree\n",
      "Recall : 0.767754 (Standard Deviation 0.157969)\n",
      "____________________________________________________________\n"
     ]
    },
    {
     "data": {
      "image/png": "[encoded data removed]",
      "text/plain": [
       "<Figure size 1080x360 with 1 Axes>"
      ]
     },
     "metadata": {},
     "output_type": "display_data"
    }
   ],
   "source": [
    "results = []\n",
    "names = []\n",
    "models = []\n",
    "\n",
    "models.append(('Logistic Regression', LogisticRegression(max_iter=100000)))\n",
    "models.append(('Decision Tree', DecisionTreeClassifier()))\n",
    "#models.append(('Support Vector', SVC()))\n",
    "#models.append(('Gradient Boosting', GradientBoostingClassifier()))\n",
    "#models.append(('XGB', XGBClassifier()))\n",
    "\n",
    "for name,model in models:\n",
    "        kfold= KFold(10)\n",
    "        cv_results = cross_val_score(model,X_train_res,y_train_res,cv= kfold,scoring='recall')\n",
    "        results.append(cv_results)\n",
    "        names.append(name)\n",
    "        print(name)\n",
    "        evaluation = \"Recall : %f (Standard Deviation %f)\" % (cv_results.mean(), cv_results.std())\n",
    "        print(evaluation)\n",
    "        print('_'*60)\n",
    "\n",
    "        \n",
    "figure = plt.figure(figsize=(15,5))\n",
    "figure.suptitle(' f1 Algorith Comparison')\n",
    "ax = figure.add_subplot(111)\n",
    "plt.boxplot(results)\n",
    "ax.set_xticklabels(names)\n",
    "plt.show()"
   ]
  },
  {
   "cell_type": "markdown",
   "metadata": {},
   "source": [
    "# Learning curve"
   ]
  },
  {
   "cell_type": "code",
   "execution_count": 52,
   "metadata": {},
   "outputs": [],
   "source": [
    "def plot_learning_curve(X,y,model):\n",
    "    model=model()\n",
    "    \n",
    "    train_sizes, train_scores,test_scores =learning_curve(model,X,y,\n",
    "                                                         cv=3,scoring='accuracy',n_jobs=-1,\n",
    "                                                         train_sizes=np.linspace(0.01,1,50))\n",
    "    \n",
    "    # Create means and standard deviations of training set scores\n",
    "    train_mean = np.mean(train_scores, axis=1)\n",
    "    train_std = np.std(train_scores, axis=1)\n",
    "    \n",
    "    # Create means and standard deviations of test set scores\n",
    "    test_mean = np.mean(test_scores, axis=1)\n",
    "    test_std = np.std(test_scores, axis=1)\n",
    "    \n",
    "    # Draw lines\n",
    "    plt.plot(train_sizes, train_mean, '--', color=\"#111111\",  label=\"Training score\")\n",
    "    plt.plot(train_sizes, test_mean, color=\"#111111\", label=\"Cross-validation score\")\n",
    "    \n",
    "    # Draw bands\n",
    "    plt.fill_between(train_sizes, train_mean - train_std, train_mean + train_std, color=\"#DDDDDD\")\n",
    "    plt.fill_between(train_sizes, test_mean - test_std, test_mean + test_std, color=\"#DDDDDD\")\n",
    "    \n",
    "    # Create plot\n",
    "    plt.title(\"Learning Curve\")\n",
    "    plt.xlabel(\"Training Set Size\"), plt.ylabel(\"Accuracy Score\"), plt.legend(loc=\"best\")\n",
    "    plt.tight_layout()\n",
    "    plt.show()\n",
    "    \n",
    "    return"
   ]
  },
  {
   "cell_type": "markdown",
   "metadata": {},
   "source": [
    "### Plot learning curve function"
   ]
  },
  {
   "cell_type": "code",
   "execution_count": 53,
   "metadata": {},
   "outputs": [
    {
     "data": {
      "image/png": "[encoded data removed]",
      "text/plain": [
       "<Figure size 432x288 with 1 Axes>"
      ]
     },
     "metadata": {},
     "output_type": "display_data"
    }
   ],
   "source": [
    "plot_learning_curve(X,y,LogisticRegression)"
   ]
  },
  {
   "cell_type": "markdown",
   "metadata": {},
   "source": [
    "# Single Model evaluation\n",
    "Function that returns info and metrics about selected model"
   ]
  },
  {
   "cell_type": "code",
   "execution_count": 196,
   "metadata": {},
   "outputs": [],
   "source": [
    "def evaluate_model(dataset,model):\n",
    "    ###\n",
    "    ml_df = dataset.copy()\n",
    "    X= ml_df.drop('target',1)\n",
    "    y= ml_df['target']\n",
    "    X_train, X_test, y_train, y_test = train_test_split(X, y, test_size=0.33, random_state=42)\n",
    "    \n",
    "    model = model\n",
    "    model.fit(X_train,y_train)\n",
    "    predictions = model.predict(X_test)\n",
    "    cm=confusion_matrix(y_test,predictions)\n",
    "\n",
    "    \n",
    "    print('\\033[1m' + '_'*30 +str(model.__class__.__name__) + ' Performance'+ '_'*30)\n",
    "    print(classification_report(y_test,predictions))\n",
    "    print('_'*25 +str(model.__class__.__name__) + ' Evaluation Metrics'+ '_'*30)\n",
    "    print('\\n')\n",
    "    print(\"Accuracy: %f\" % (accuracy_score(y_test,predictions)))\n",
    "    print(\"Recall score: %f\" % (recall_score(y_test,predictions)))\n",
    "    print(\"Log Loss: %f\" % (log_loss(y_test,predictions)))\n",
    "    print(\"F1 score: %f\" % (f1_score(y_test,predictions)))\n",
    "    print('_'*25 +str(model.__class__.__name__) + ' Confusion Matrix'+ '_'*30)\n",
    "    \n",
    "    print('\\n')\n",
    "    print('Number of observations in test set : '+ str(len(y_test)))\n",
    "    print('Percentage of correct answers on test set: '+ str(round((cm[0,0]+cm[1,1])/len(y_test),2)))\n",
    "    print('Percentage of wrong answers on test set : '+ str(round((cm[0,1]+cm[1,0])/len(y_test),2)))\n",
    "    \n",
    "    g=sns.heatmap(cm,annot=True,fmt='d',linewidths=1,linecolor='black',\n",
    "                  annot_kws={\"size\":14},cmap='Spectral',cbar=False)\n",
    "    g.set_xticklabels('01',fontsize = 16)\n",
    "    g.set_yticklabels('01',fontsize = 16)\n",
    "    plt.xlabel('Actual',size=16)\n",
    "    plt.ylabel('Predicted',size=16)\n",
    "    plt.suptitle(str(model.__class__.__name__))\n",
    "    plt.title('Confusion Matrix',size=10)\n",
    "    plt.show()\n",
    "    \n",
    "    fpr, tpr, thresholds = roc_curve(y_test, predictions)\n",
    "    \n",
    "    roc_auc = auc(fpr,tpr)\n",
    "    # Plot ROC\n",
    "    print('_'*25 +str(model.__class__.__name__) + ' ROC Curve'+ '_'*30)\n",
    "    \n",
    "    plt.title(str(model.__class__.__name__))\n",
    "    plt.plot(fpr, tpr, 'b',label='AUC = %0.3f'% roc_auc,)\n",
    "    plt.legend(loc='lower right')\n",
    "    plt.plot([0,1],[0,1],'r--')\n",
    "    plt.xlim([-0.1,1.0])\n",
    "    plt.ylim([-0.1,1.01])\n",
    "    plt.ylabel('True Positive Rate')\n",
    "    plt.xlabel('False Positive Rate')\n",
    "    plt.show()\n",
    "    return "
   ]
  },
  {
   "cell_type": "markdown",
   "metadata": {},
   "source": [
    "## Select a classifier to see model performance"
   ]
  },
  {
   "cell_type": "code",
   "execution_count": 222,
   "metadata": {
    "scrolled": true
   },
   "outputs": [
    {
     "name": "stdout",
     "output_type": "stream",
     "text": [
      "\u001b[1m______________________________GradientBoostingClassifier Performance______________________________\n",
      "              precision    recall  f1-score   support\n",
      "\n",
      "           0       0.88      0.95      0.91      8150\n",
      "           1       0.80      0.59      0.68      2596\n",
      "\n",
      "    accuracy                           0.87     10746\n",
      "   macro avg       0.84      0.77      0.80     10746\n",
      "weighted avg       0.86      0.87      0.86     10746\n",
      "\n",
      "_________________________GradientBoostingClassifier Evaluation Metrics______________________________\n",
      "\n",
      "\n",
      "Accuracy: 0.865159\n",
      "Recall score: 0.587057\n",
      "Log Loss: 4.657267\n",
      "F1 score: 0.677785\n",
      "_________________________GradientBoostingClassifier Confusion Matrix______________________________\n",
      "\n",
      "\n",
      "Number of observations in test set : 10746\n",
      "Percentage of correct answers on test set: 0.87\n",
      "Percentage of wrong answers on test set : 0.13\n"
     ]
    },
    {
     "data": {
      "image/png": "[encoded data removed]",
      "text/plain": [
       "<Figure size 432x288 with 1 Axes>"
      ]
     },
     "metadata": {},
     "output_type": "display_data"
    },
    {
     "name": "stdout",
     "output_type": "stream",
     "text": [
      "_________________________GradientBoostingClassifier ROC Curve______________________________\n"
     ]
    },
    {
     "data": {
      "image/png": "[encoded data removed]",
      "text/plain": [
       "<Figure size 432x288 with 1 Axes>"
      ]
     },
     "metadata": {},
     "output_type": "display_data"
    }
   ],
   "source": [
    "# for this purpose i set manually XGB classifier\n",
    "xgb= XGBClassifier(objective='binary:logistic',subsample=0.8,colsample_bytree=0.8,random_state=42,\n",
    "                  max_depth=3,gamma=0.1,min_child_weight=1)\n",
    "\n",
    "# evaluate xgb\n",
    "evaluate_model(data,xgb)"
   ]
  },
  {
   "cell_type": "markdown",
   "metadata": {},
   "source": [
    "# SMOTE"
   ]
  },
  {
   "cell_type": "code",
   "execution_count": 219,
   "metadata": {},
   "outputs": [],
   "source": [
    "def smote_oversampling(dataset,model):\n",
    "    \n",
    "    ml_df = dataset.copy()\n",
    "    X= ml_df.drop('target',1)\n",
    "    y= ml_df['target']\n",
    "    X_train, X_test, y_train, y_test = train_test_split(X, y, test_size=0.33, random_state=42)\n",
    "    \n",
    "    print('\\033[1m' + \"Before OverSampling, counts of label '1': {}\".format(sum(y_train==1)))\n",
    "    print(\"Before OverSampling, counts of label '0': {}\".format(sum(y_train==0)))\n",
    "    print('_'*50)\n",
    "    sm = SMOTE(random_state=2,sampling_strategy='minority')\n",
    "    X_train_res, y_train_res = sm.fit_sample(X_train, y_train.ravel())\n",
    "    print(\"After OverSampling, counts of label '1': {}\".format(sum(y_train_res==1)))\n",
    "    print(\"After OverSampling, counts of label '0': {}\".format(sum(y_train_res==0)))\n",
    "    print('_'*50)\n",
    "    print('After OverSampling, the shape of train_X: {}'.format(X_train_res.shape))\n",
    "    print('After OverSampling, the shape of train_y: {} \\n'.format(y_train_res.shape))\n",
    "    model = model\n",
    "    model.fit(X_train,y_train)\n",
    "    predictions = model.predict(X_test)\n",
    "        \n",
    "    smote_model=model.fit(X_train_res,y_train_res)\n",
    "    smote_pred= smote_model.predict(X_test)\n",
    "    print('-><-'*58)\n",
    "    print('Improvement for recall score: ',round((recall_score(y_test,smote_pred)-recall_score(y_test,predictions)),3))\n",
    "    print('Improvement for F1 score: ',round((f1_score(y_test,smote_pred)-f1_score(y_test,predictions)),3))\n",
    "    print('|'*50)\n",
    "    print(\"Recall score : %f\" % (recall_score(y_test,predictions)))\n",
    "    print(\"F1 score: %f\" % (f1_score(y_test,predictions)))\n",
    "    print('|'*50)\n",
    "    print(\"Recall score SMOTE sample: %f\" % (recall_score(y_test,smote_pred)))\n",
    "    print(\"F1 score SMOTE sample: %f\" % (f1_score(y_test,smote_pred)))\n",
    "    return    "
   ]
  },
  {
   "cell_type": "code",
   "execution_count": 220,
   "metadata": {},
   "outputs": [
    {
     "name": "stdout",
     "output_type": "stream",
     "text": [
      "\u001b[1mBefore OverSampling, counts of label '1': 5245\n",
      "Before OverSampling, counts of label '0': 16570\n",
      "__________________________________________________\n",
      "After OverSampling, counts of label '1': 16570\n",
      "After OverSampling, counts of label '0': 16570\n",
      "__________________________________________________\n",
      "After OverSampling, the shape of train_X: (33140, 108)\n",
      "After OverSampling, the shape of train_y: (33140,) \n",
      "\n",
      "-><--><--><--><--><--><--><--><--><--><--><--><--><--><--><--><--><--><--><--><--><--><--><--><--><--><--><--><--><--><--><--><--><--><--><--><--><--><--><--><--><--><--><--><--><--><--><--><--><--><--><--><--><--><--><--><--><--><-\n",
      "Improvement for recall score:  0.266\n",
      "Improvement for F1 score:  0.049\n",
      "||||||||||||||||||||||||||||||||||||||||||||||||||\n",
      "Recall score : 0.263097\n",
      "F1 score: 0.384789\n",
      "||||||||||||||||||||||||||||||||||||||||||||||||||\n",
      "Recall score SMOTE sample: 0.529276\n",
      "F1 score SMOTE sample: 0.433302\n"
     ]
    }
   ],
   "source": [
    "smote_oversampling(data,LogisticRegression())"
   ]
  }
 ],
 "metadata": {
  "kernelspec": {
   "display_name": "Python 3",
   "language": "python",
   "name": "python3"
  },
  "language_info": {
   "codemirror_mode": {
    "name": "ipython",
    "version": 3
   },
   "file_extension": ".py",
   "mimetype": "text/x-python",
   "name": "python",
   "nbconvert_exporter": "python",
   "pygments_lexer": "ipython3",
   "version": "3.7.6"
  }
 },
 "nbformat": 4,
 "nbformat_minor": 4
}
